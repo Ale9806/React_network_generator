{
 "cells": [
  {
   "cell_type": "code",
   "execution_count": 2,
   "metadata": {},
   "outputs": [],
   "source": [
    "from rdkit import Chem\n",
    "from rdkit.Chem import Draw\n",
    "from rdkit.Chem.MolStandardize import rdMolStandardize\n",
    "from rdkit.Chem.Descriptors import ExactMolWt\n",
    "enumerator = rdMolStandardize.TautomerEnumerator()\n",
    "import os "
   ]
  },
  {
   "cell_type": "code",
   "execution_count": 3,
   "metadata": {},
   "outputs": [],
   "source": [
    "import pickle"
   ]
  },
  {
   "cell_type": "code",
   "execution_count": 4,
   "metadata": {},
   "outputs": [],
   "source": [
    "def get_canonical(network):\n",
    "    \"\"\" Gets the canonical SMILES strings and Molecule objects of tautomers  in a Network \"\"\"\n",
    "        # BASIC NOTATION\n",
    "    # name  == SMILES string list\n",
    "    # name_molecule == Molecule object list\n",
    "\n",
    "    tautomer_molecules =[] # a list that will hold the most stable tautomer\n",
    "    tautomer = []\n",
    "    for i in range(0,len(network)):\n",
    "\n",
    "        mol = Chem.MolFromSmiles(network[i])         # conver to mol object\n",
    "        can = Chem.MolToSmiles(mol)                  # back to smiles (this will creat canonical strings)\n",
    "        can_mol=Chem.MolFromSmiles(can)              # convert back to molto see if there are in fact canonical\n",
    "\n",
    "        taut_mol = enumerator.Canonicalize(can_mol)  # get tautomer (it only works with molecule objects)\n",
    "        tautomer_molecules.append(taut_mol)          # append to tuatomer_molecules list\n",
    "        taut = Chem.MolToSmiles(mol)                 # convert to smiles\n",
    "        tautomer.append(taut)                        # append to tuatomer (SMILES)list\n",
    "    \n",
    "    new_tautomer = []\n",
    "    mol_tautomer = []\n",
    "    for i in range(0,len(tautomer)):\n",
    "        sm = Chem.MolToSmiles(tautomer_molecules[i]) #from the mol canoncial objects get the srtings that defined them\n",
    "        mol_1 = Chem.MolFromSmiles(sm)               # convert back to mol object (this is done in order to get the canonical)\n",
    "        # 2nd convert back to smiles\n",
    "        can_1 = Chem.MolToSmiles(mol_1)              # convert them back to string out of mol (to take care of rotated molecules)\n",
    "        new_tautomer.append(can_1)                   # append this to new_tatuomer\n",
    "    \n",
    "\n",
    "    return (new_tautomer)"
   ]
  },
  {
   "cell_type": "code",
   "execution_count": 5,
   "metadata": {},
   "outputs": [],
   "source": [
    "NET={}\n",
    "NET[\"Iteration\"+ str(1)]=[\"C(C1C(C(C(C(O)O1)O)O)O)O\",\"O\",\"C=C1C(C(C(C(O)O1)O)O)O\",\"C1C(C(C(O)OC=1CO)O)O\",\"C1(O)OC(CO)C(C(C=1)O)O\",\"C1OC(CO)C(C(C=1O)O)O\",\"C1C(C(CO)OC(C=1O)O)O\",\"C1(C(C(CO)OC(C=1)O)O)O\",\"C1(C(C(OC(C=1)CO)O)O)O\",\"C1C(C(OC(C=1O)CO)O)O\",\"C(O)=C(C(C(C(CO)O)O)O)O\",\"C(C(C(C(O)O)O)O)(O)=CCO\",\"C(O)=CC(C(C(C(O)O)O)O)O\"]\n",
    "NET[\"Iteration\"+str(2)]=[\"C(C1C(C(C(C(O)O1)O)O)O)O\",\"O\",\"C=C1C(C(C(C(O)O1)O)O)O\",\"C1C(C(C(O)OC=1CO)O)O\",\"C1(O)OC(CO)C(C(C=1)O)O\",\"C1OC(CO)C(C(C=1O)O)O\",\"C1C(C(CO)OC(C=1O)O)O\",\"C1(C(C(CO)OC(C=1)O)O)O\",\"C1(C(C(OC(C=1)CO)O)O)O\",\"C1C(C(OC(C=1O)CO)O)O\",\"C(O)=C(C(C(C(CO)O)O)O)O\",\"C(C(C(C(O)O)O)O)(O)=CCO\",\"C(O)=CC(C(C(C(O)O)O)O)O\",\"C1(O)OC(C(C(C=1)O)O)=C\",\"C1OC(C(C(C=1O)O)O)=C\",\"C=C1C(C=C(C(O)O1)O)O\",\"C=C1C(C(O)=CC(O)O1)O\",\"C=C1C=C(C(C(O)O1)O)O\",\"C=C1C(O)=CC(C(O)O1)O\",\"C1(O)OC(CO)=CC(C=1)O\",\"C1OC(CO)=CC(C=1O)O\",\"C1(CO)OC(C(O)=CC=1)O\",\"C1(CO)OC(C=C(C=1)O)O\",\"C1=CC(C(O)OC=1CO)O\",\"C1=C(O)OC(CO)C(C=1)O\",\"C1(OC(C=C(C=1)O)CO)O\",\"C1(OC(C(O)=CC=1)CO)O\",\"C1=COC(CO)C(C=1O)O\",\"C1OC(C=C(C=1O)O)CO\",\"C1OC(C(O)=CC=1O)CO\",\"C1=CC(CO)OC(C=1O)O\",\"C1=C(C(CO)OC(C=1)O)O\",\"C(O)=C(C(C(C(O)=C)O)O)O\",\"C(O)=C(C(C=C(CO)O)O)O\",\"C(=CO)=C(C(C(CO)O)O)O\",\"C(O)=C(C(O)=CC(CO)O)O\",\"C(O)=C(C(C(O)=CCO)O)O\",\"C(O)=C(C=C(C(CO)O)O)O\",\"C(O)=CC(C(C(O)=CO)O)O\",\"C(=C)=C(C(C(C(O)O)O)O)O\",\"C(O)(O)=CC(C(O)=CCO)O\",\"C(C(O)O)(O)=CC(O)=CCO\",\"C(CO)=C(C(O)=CC(O)O)O\",\"C(=C(C(C(O)O)O)O)=CCO\",\"C(=CO)=CC(C(C(O)O)O)O\",\"C(O)(O)=CC(C(C=CO)O)O\",\"C(O)=CC(C=C(C(O)O)O)O\",\"C(O)=CC(C(O)=CC(O)O)O\",\"C(O)=CC=C(C(C(O)O)O)O\",\"C(O)=CC(O)=CC(C(O)O)O\",\"CC1(C(C(C(C(O)O1)O)O)O)O\",\"C(C1(CC(C(C(O)O1)O)O)O)O\",\"C(C1C(C(CC(O)(O)O1)O)O)O\",\"C1C(C(C(C(CO)O1)O)O)(O)O\",\"C(C1C(CC(C(O)O1)(O)O)O)O\",\"C(C1C(C(CC(O)O1)(O)O)O)O\",\"C(C1CC(C(C(O)O1)O)(O)O)O\",\"C(C1C(CC(C(O)O1)O)(O)O)O\",\"C(C(C(C(C(CO)(O)O)O)O)O)O\",\"C(C(C(C(C(C(O)O)O)O)O)O)O\",\"C(CC(C(C(C(O)O)O)O)(O)O)O\",\"C(C(C(C(CC(O)O)O)O)O)(O)O\",\"C1OC(CO)C(C(C#1)O)O\",\"C1C(C(CO)OC(C#1)O)O\",\"C1C(C(OC(C#1)CO)O)O\",\"C(O)#CC(C(C(CO)O)O)O\",\"C(C(C(C(O)O)O)O)#CCO\",\"C#CC(C(C(C(O)O)O)O)O\"]\n",
    "NET[\"Iteration\"+str(3)]=[\"C(C1C(C(C(C(O)O1)O)O)O)O\",\"O\",\"C=C1C(C(C(C(O)O1)O)O)O\",\"C1C(C(C(O)OC=1CO)O)O\",\"C1(O)OC(CO)C(C(C=1)O)O\",\"C1OC(CO)C(C(C=1O)O)O\",\"C1C(C(CO)OC(C=1O)O)O\",\"C1(C(C(CO)OC(C=1)O)O)O\",\"C1(C(C(OC(C=1)CO)O)O)O\",\"C1C(C(OC(C=1O)CO)O)O\",\"C(O)=C(C(C(C(CO)O)O)O)O\",\"C(C(C(C(O)O)O)O)(O)=CCO\",\"C(O)=CC(C(C(C(O)O)O)O)O\",\"C1(O)OC(C(C(C=1)O)O)=C\",\"C1OC(C(C(C=1O)O)O)=C\",\"C=C1C(C=C(C(O)O1)O)O\",\"C=C1C(C(O)=CC(O)O1)O\",\"C=C1C=C(C(C(O)O1)O)O\",\"C=C1C(O)=CC(C(O)O1)O\",\"C1(O)OC(CO)=CC(C=1)O\",\"C1OC(CO)=CC(C=1O)O\",\"C1(CO)OC(C(O)=CC=1)O\",\"C1(CO)OC(C=C(C=1)O)O\",\"C1=CC(C(O)OC=1CO)O\",\"C1=C(O)OC(CO)C(C=1)O\",\"C1(OC(C=C(C=1)O)CO)O\",\"C1(OC(C(O)=CC=1)CO)O\",\"C1=COC(CO)C(C=1O)O\",\"C1OC(C=C(C=1O)O)CO\",\"C1OC(C(O)=CC=1O)CO\",\"C1=CC(CO)OC(C=1O)O\",\"C1=C(C(CO)OC(C=1)O)O\",\"C(O)=C(C(C(C(O)=C)O)O)O\",\"C(O)=C(C(C=C(CO)O)O)O\",\"C(=CO)=C(C(C(CO)O)O)O\",\"C(O)=C(C(O)=CC(CO)O)O\",\"C(O)=C(C(C(O)=CCO)O)O\",\"C(O)=C(C=C(C(CO)O)O)O\",\"C(O)=CC(C(C(O)=CO)O)O\",\"C(=C)=C(C(C(C(O)O)O)O)O\",\"C(O)(O)=CC(C(O)=CCO)O\",\"C(C(O)O)(O)=CC(O)=CCO\",\"C(CO)=C(C(O)=CC(O)O)O\",\"C(=C(C(C(O)O)O)O)=CCO\",\"C(=CO)=CC(C(C(O)O)O)O\",\"C(O)(O)=CC(C(C=CO)O)O\",\"C(O)=CC(C=C(C(O)O)O)O\",\"C(O)=CC(C(O)=CC(O)O)O\",\"C(O)=CC=C(C(C(O)O)O)O\",\"C(O)=CC(O)=CC(C(O)O)O\",\"CC1(C(C(C(C(O)O1)O)O)O)O\",\"C(C1(CC(C(C(O)O1)O)O)O)O\",\"C(C1C(C(CC(O)(O)O1)O)O)O\",\"C1C(C(C(C(CO)O1)O)O)(O)O\",\"C(C1C(CC(C(O)O1)(O)O)O)O\",\"C(C1C(C(CC(O)O1)(O)O)O)O\",\"C(C1CC(C(C(O)O1)O)(O)O)O\",\"C(C1C(CC(C(O)O1)O)(O)O)O\",\"C(C(C(C(C(CO)(O)O)O)O)O)O\",\"C(C(C(C(C(C(O)O)O)O)O)O)O\",\"C(CC(C(C(C(O)O)O)O)(O)O)O\",\"C(C(C(C(CC(O)O)O)O)O)(O)O\",\"C1OC(CO)C(C(C#1)O)O\",\"C1C(C(CO)OC(C#1)O)O\",\"C1C(C(OC(C#1)CO)O)O\",\"C(O)#CC(C(C(CO)O)O)O\",\"C(C(C(C(O)O)O)O)#CCO\",\"C#CC(C(C(C(O)O)O)O)O\",\"C1=C(O)OC(C(C=1)O)=C\",\"C=C1C=C(C=C(O)O1)O\",\"C=C1C(O)=CC=C(O)O1\",\"C1=COC(C(C=1O)O)=C\",\"C=C1C=C(C(O)=CO1)O\",\"C=C1C(O)=CC(O)=CO1\",\"C1=C(C(O)OC(C=1)=C)O\",\"C1=CC(O)OC(C=1O)=C\",\"C1=C(O)OC(CO)=CC=1\",\"C1=C(CO)OC(O)=CC=1\",\"C1=COC(CO)=CC=1O\",\"C1=C(CO)OC=C(C=1)O\",\"C1=C=CC(O)OC=1CO\",\"C1=C=CC(CO)OC=1O\",\"C1=C=C(C(CO)OC=1)O\",\"C(=CO)=C(C(C(O)=C)O)O\",\"C=C(C=C(C(O)=CO)O)O\",\"C(=C)=C(C(C(O)=CO)O)O\",\"C=C(C(O)=CC(O)=CO)O\",\"C(=CO)=C(C=C(CO)O)O\",\"C(=C(CO)O)=CC(O)=CO\",\"C(=CO)=CC(C(O)=CO)O\",\"C(=CO)=C(C(O)=CCO)O\",\"C(=C=C(C(CO)O)O)=CO\",\"C(=CO)=C(C(C=CO)O)O\",\"C(=CCO)=C(C(O)=CO)O\",\"C(O)=C(C(O)=CC=CO)O\",\"C(O)=C(C=C(C=CO)O)O\",\"C(=C)=C(C(C=C(O)O)O)O\",\"C(=C)=C(C=C(C(O)O)O)O\",\"C(=C)=C(C(O)=CC(O)O)O\",\"C(=C=C(C(C(O)O)O)O)=C\",\"C(=C(O)O)=CC(O)=CCO\",\"C(=CCO)=C(C=C(O)O)O\",\"C(=C=CCO)=C(C(O)O)O\",\"C(=CO)=CC(C=C(O)O)O\",\"C(=CO)=CC=C(C(O)O)O\",\"C(=CO)=CC(O)=CC(O)O\",\"C(=C=CC(C(O)O)O)=CO\",\"C(=C(O)O)=CC(C=CO)O\",\"C(O)=CC=C(C=C(O)O)O\",\"C(O)=CC(O)=CC=C(O)O\",\"C(=C(C(O)O)O)=CC=CO\",\"C(=CC(O)O)=C(C=CO)O\",\"C1(O)OC(C)(C(C(C=1)O)O)O\",\"C1OC(C)(C(C(C=1O)O)O)O\",\"C1C(C(C)(OC(C=1O)O)O)O\",\"C1(C(C(C)(OC(C=1)O)O)O)O\",\"C1(C(C(OC(C=1)(C)O)O)O)O\",\"C1(C(C(C(O)OC=1C)O)O)O\",\"C1C(C(OC(C=1O)(C)O)O)O\",\"C1C(C(OC(C=1)(CO)O)O)O\",\"C1(O)OC(CO)(CC(C=1)O)O\",\"C1OC(CO)(CC(C=1O)O)O\",\"C1CC(CO)(OC(C=1O)O)O\",\"C1(CC(CO)(OC(C=1)O)O)O\",\"C(O)=C1CC(C(C(O)O1)O)O\",\"C1C(C(CO)OC(C=1)(O)O)O\",\"C=C1C(C(CC(O)(O)O1)O)O\",\"C1C(CC(O)(O)OC=1CO)O\",\"C1(CC(OC(C=1)CO)(O)O)O\",\"C1CC(OC(C=1O)CO)(O)O\",\"C=C1C(C(C(CO1)(O)O)O)O\",\"C1C(C(COC=1CO)(O)O)O\",\"C1(C(C(CO)OCC=1O)O)O\",\"C1C(CO)OCC(C=1O)(O)O\",\"C1(C(CO)OCC(C=1)(O)O)O\",\"C1C(CO)OC(C(C=1)(O)O)O\",\"C=C1C(CC(C(O)O1)(O)O)O\",\"C1CC(C(O)OC=1CO)(O)O\",\"C1(O)OC(CO)C(CC=1O)O\",\"C1OC(CO)C(C(C=1)(O)O)O\",\"C=C1C(C(CC(O)O1)(O)O)O\",\"C1C(CC(O)OC=1CO)(O)O\",\"C1(CC(OC(C=1O)CO)O)O\",\"C=C1CC(C(C(O)O1)O)(O)O\",\"C1(O)OC(CO)CC(C=1)(O)O\",\"C1OC(CO)CC(C=1O)(O)O\",\"C1(CC(CO)OC(C=1O)O)O\",\"C1C(C(CO)OC(C=1)O)(O)O\",\"C=C1C(CC(C(O)O1)O)(O)O\",\"C1(CC(C(O)OC=1CO)O)O\",\"C1(O)OC(CO)C(CC=1)(O)O\",\"C1OC(CO)C(CC=1O)(O)O\",\"C=C(C(C(C(CO)(O)O)O)O)O\",\"C(C(C(CO)(O)O)O)=C(CO)O\",\"C(C(C(CO)O)O)(O)=C(CO)O\",\"C(C(CO)O)=C(C(CO)(O)O)O\",\"C(C(C(CO)(O)O)O)(O)=CCO\",\"C(C(CO)O)(O)=CC(CO)(O)O\",\"C(O)=CC(C(C(CO)(O)O)O)O\",\"C(C(C(CO)O)O)=C(C(O)O)O\",\"C=C(C(C(C(C(O)O)O)O)O)O\",\"C(C(C(C(O)O)O)O)=C(CO)O\",\"C(O)(O)=CC(C(C(CO)O)O)O\",\"C(C(C(CO)O)O)(O)=CC(O)O\",\"C(C(C(O)O)O)(O)=CC(CO)O\",\"C(C(CO)O)(O)=CC(C(O)O)O\",\"C=CC(C(C(C(O)O)O)O)(O)O\",\"C(O)(O)=CC(C(CCO)(O)O)O\",\"C(O)=C(C(C(CCO)(O)O)O)O\",\"C(C(CCO)(O)O)=C(C(O)O)O\",\"C(C(CCO)(O)O)(O)=CC(O)O\",\"C(CCO)(O)=C(C(C(O)O)O)O\",\"C(C(C(C(O)O)O)O)=CC(O)O\",\"C(O)(O)=CC(C(CC(O)O)O)O\",\"C(O)=C(C(C(CC(O)O)O)O)O\",\"C(C(CC(O)O)O)=C(C(O)O)O\",\"C(C(CC(O)O)O)(O)=CC(O)O\",\"C(CC(O)O)=C(C(C(O)O)O)O\",\"C(CC(O)O)(O)=CC(C(O)O)O\",\"C1OC(C(C(C#1)O)O)=C\",\"C1OC(CO)=CC(C#1)O\",\"C1OC(C=C(C#1)O)CO\",\"C1OC(C(O)=CC#1)CO\",\"C1C(C(OC(C#1)O)=C)O\",\"C1C(O)OC(CO)=CC#1\",\"C1C(C(OC(C#1)=C)O)O\",\"C1C(CO)OC(O)=CC#1\",\"C1C(CO)OC=C(C#1)O\",\"C(O)#CC(C(C(O)=C)O)O\",\"C(O)#CC(C=C(CO)O)O\",\"C(O)#CC(O)=CC(CO)O\",\"C(O)#CC(C(O)=CCO)O\",\"C(O)#CC=C(C(CO)O)O\",\"C(O)#CC(C(C=CO)O)O\",\"C(C(C=C(O)O)O)#CCO\",\"C(C(C(O)=CO)O)#CCO\",\"C(CO)#CC=C(C(O)O)O\",\"C(CO)#CC(O)=CC(O)O\",\"C#CC(C(C=C(O)O)O)O\",\"C#CC(C(C(O)=CO)O)O\",\"C#CC(C=C(C(O)O)O)O\",\"C#CC(C(O)=CC(O)O)O\",\"C#CC=C(C(C(O)O)O)O\",\"C#CC(O)=CC(C(O)O)O\",\"C(O)=C(C(C(C(C)(O)O)O)O)O\",\"C(C(C(C(O)O)O)O)(O)=C(C)O\",\"C(O)=C(C(CC(CO)(O)O)O)O\",\"C(O)=C(CC(C(C(O)O)O)O)O\",\"C(C(CC(O)(O)O)O)(O)=CCO\",\"C(O)=CC(C(CC(O)(O)O)O)O\",\"C(CC(C(O)O)(O)O)(O)=CCO\",\"C(O)=CC(CC(C(O)O)(O)O)O\",\"C(O)=CC(C(C(CO)O)O)(O)O\",\"C(C(CC(O)O)(O)O)(O)=CCO\",\"C(O)=CC(C(CC(O)O)(O)O)O\",\"C(C(C(C(O)O)O)(O)O)=CCO\",\"C(O)=C(C(CC(CO)O)(O)O)O\",\"C(O)=CCC(C(C(O)O)O)(O)O\",\"C(O)=C(CC(C(CO)O)(O)O)O\",\"C(O)=CC(CC(C(O)O)O)(O)O\",\"C(C(O)O)#CC(O)=CCO\",\"C(C(C=CO)O)#CC(O)O\",\"C(C(CO)O)#CC(O)=CO\",\"C(C(C(O)O)O)#CC=CO\",\"C1OC2COC=1C(C2O)O\",\"C12OCC(C(C(C=1)O)O)O2\",\"C1OC(CO)C(C2C=1O2)O\",\"C12OC(C=1)C(C(CO)O2)O\",\"C1OC(CO)C2C(C=1O2)O\",\"C12OC(C(CO)O1)C(C=2)O\",\"C12C(C(CO1)OC(C=2)O)O\",\"C1C(C2COC=1C(O)O2)O\",\"C12C(C(CO)OC(C=1)O2)O\",\"C1C(C(CO)OC2C=1O2)O\",\"C12C(C(CO)OC(C=1)O)O2\",\"C1C2C(CO)OC(C=1O2)O\",\"C1C(C(OC2C=1OC2)O)O\",\"C12C(C(OC(C=1)CO2)O)O\",\"C1C(C2OC(C=1O2)CO)O\",\"C12C(C(OC(C=1)CO)O2)O\",\"C12C(CO)OC(C(C=1)O2)O\",\"C1C(CO)OC(C2C=1O2)O\",\"C(O)=C1C(C(C(CO1)O)O)O\",\"C1(O)OCC(C(C(C=1)O)O)O\",\"C(O)=C1C(C(C(CO)O1)O)O\",\"C(O)=C1C(C(C(CO)O)O)O1\",\"C1(OC(C=1)C(C(CO)O)O)O\",\"C(O)=C1C(C(C(CO)O)O1)O\",\"C1(O)OC(C(CO)O)C(C=1)O\",\"C1(C(C(C(O)O)O)O)OCC=1\",\"C(C(C(C(O)O)O)O)=C1CO1\",\"C1(C(C(C(O)O1)O)O)=CCO\",\"C1(C(C(C(O)O)O1)O)=CCO\",\"C1C(C(C(O)O)OC=1CO)O\",\"C1(C(C(C(O)O)O)O1)=CCO\",\"C1C(C(C(O)O)O)OC=1CO\",\"C1OC(C(C(C(C=1)O)O)O)O\",\"C=C1C(C(C(C(O)O)O1)O)O\",\"C1OC(C(O)O)C(C(C=1)O)O\",\"C=C1C(C(C(C(O)O)O)O1)O\",\"C1OC(C(C(O)O)O)C(C=1)O\",\"C=C1C(C(C(C(O)O)O)O)O1\",\"C1OC(C=1)C(C(C(O)O)O)O\"]"
   ]
  },
  {
   "cell_type": "code",
   "execution_count": 7,
   "metadata": {},
   "outputs": [
    {
     "data": {
      "text/plain": [
       "344"
      ]
     },
     "execution_count": 7,
     "metadata": {},
     "output_type": "execute_result"
    }
   ],
   "source": [
    "len(NET[\"Iteration\"+str(3)]) + len(NET[\"Iteration\"+str(2)]) + len(NET[\"Iteration\"+str(1)])"
   ]
  },
  {
   "cell_type": "code",
   "execution_count": 8,
   "metadata": {},
   "outputs": [
    {
     "data": {
      "text/plain": [
       "13"
      ]
     },
     "execution_count": 8,
     "metadata": {},
     "output_type": "execute_result"
    }
   ],
   "source": [
    "len(NET[\"Iteration\"+str(1)])"
   ]
  },
  {
   "cell_type": "code",
   "execution_count": 9,
   "metadata": {},
   "outputs": [
    {
     "data": {
      "text/plain": [
       "68"
      ]
     },
     "execution_count": 9,
     "metadata": {},
     "output_type": "execute_result"
    }
   ],
   "source": [
    "len(NET[\"Iteration\"+str(2)])"
   ]
  },
  {
   "cell_type": "code",
   "execution_count": 10,
   "metadata": {},
   "outputs": [
    {
     "data": {
      "text/plain": [
       "263"
      ]
     },
     "execution_count": 10,
     "metadata": {},
     "output_type": "execute_result"
    }
   ],
   "source": [
    "len(NET[\"Iteration\"+str(3)])"
   ]
  },
  {
   "cell_type": "code",
   "execution_count": 11,
   "metadata": {},
   "outputs": [],
   "source": [
    "for i in range(len(NET)): # get canonical molecules \n",
    "    NET[\"Iteration\"+ str(i+1)] = set(get_canonical(NET[\"Iteration\"+ str(i+1)])) #get the set of molecules for every iteration"
   ]
  },
  {
   "cell_type": "code",
   "execution_count": 12,
   "metadata": {},
   "outputs": [],
   "source": [
    "cache = {}\n",
    "#lets only stay with new molecules for each iteration \n",
    "for i in range(1,len(NET)+1):\n",
    "    try:\n",
    "        inter = NET[\"Iteration\"+ str(i)].intersection(NET[\"Iteration\"+ str(i+1)]) #compute intersecction of sets\n",
    "        cache = set(list(cache) + list(inter))\n",
    "        NET[\"Iteration\"+ str(i+1)] = NET[\"Iteration\"+ str(i+1)] - cache # we obtain the conjugate\n",
    "    except:\n",
    "        pass\n",
    "# In order to compute the conjugate we used sets, lets go back to lists\n",
    "for i in range(len(NET)):\n",
    "    NET[\"Iteration\"+ str(i+1)] = list( NET[\"Iteration\"+ str(i+1)] )"
   ]
  },
  {
   "cell_type": "code",
   "execution_count": 14,
   "metadata": {},
   "outputs": [
    {
     "data": {
      "text/plain": [
       "165"
      ]
     },
     "execution_count": 14,
     "metadata": {},
     "output_type": "execute_result"
    }
   ],
   "source": [
    "len(NET[\"Iteration\"+ str(3)])"
   ]
  },
  {
   "cell_type": "code",
   "execution_count": 140,
   "metadata": {},
   "outputs": [],
   "source": [
    "import pickle"
   ]
  },
  {
   "cell_type": "code",
   "execution_count": 146,
   "metadata": {},
   "outputs": [
    {
     "name": "stdout",
     "output_type": "stream",
     "text": [
      "C:\\Users\\Eduardo\\Documents\\CARRERA\\BMSIS\\jim\\Network\n"
     ]
    }
   ],
   "source": [
    "os.chdir(r'C:\\Users\\Eduardo\\Documents\\CARRERA\\BMSIS\\jim\\Network')\n",
    "print(os.getcwd()) #lets make sure we are in the correct directory"
   ]
  },
  {
   "cell_type": "code",
   "execution_count": 147,
   "metadata": {},
   "outputs": [],
   "source": [
    "pickle_out = open(\"Network.pickle\",\"wb\") #Opens or creates a file.pickle (write mode)\n",
    "pickle.dump(NET,pickle_out)          #Stores data\n",
    "pickle_out.close()   "
   ]
  },
  {
   "cell_type": "code",
   "execution_count": 143,
   "metadata": {},
   "outputs": [],
   "source": [
    "pickle_in = open(\"Network.pickle\",\"rb\")  # using reading bits\n",
    "net = pickle.load(pickle_in)"
   ]
  }
 ],
 "metadata": {
  "kernelspec": {
   "display_name": "my-rdkit-env",
   "language": "python",
   "name": "my-rdkit-env"
  },
  "language_info": {
   "codemirror_mode": {
    "name": "ipython",
    "version": 3
   },
   "file_extension": ".py",
   "mimetype": "text/x-python",
   "name": "python",
   "nbconvert_exporter": "python",
   "pygments_lexer": "ipython3",
   "version": "3.7.7"
  }
 },
 "nbformat": 4,
 "nbformat_minor": 4
}
