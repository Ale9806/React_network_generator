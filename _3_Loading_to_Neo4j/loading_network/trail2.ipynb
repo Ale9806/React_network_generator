{
 "cells": [
  {
   "cell_type": "code",
   "execution_count": 1,
   "metadata": {},
   "outputs": [],
   "source": [
    "from neo4j import GraphDatabase"
   ]
  },
  {
   "cell_type": "code",
   "execution_count": 2,
   "metadata": {},
   "outputs": [],
   "source": [
    "import pickle\n",
    "pickle_in = open(\"Network.pickle\",\"rb\")  # using reading bits\n",
    "net = pickle.load(pickle_in)"
   ]
  },
  {
   "cell_type": "code",
   "execution_count": 3,
   "metadata": {},
   "outputs": [],
   "source": [
    "# Establish Connection\n",
    "graph = GraphDatabase.driver(uri=\"bolt://localhost:7687\", auth=(\"neo4j\", \"ucsd2020\"))\n",
    "session =  graph.session()\n",
    "\n",
    "# Make sure there are not any nodes \n",
    "execute = \"MATCH (n) DETACH DELETE n\"\n",
    "nodes = session.run(execute)\n",
    "# For this Database we have two nodes so we expect to nodes\n",
    "for node in nodes:\n",
    "    print(node[0])"
   ]
  },
  {
   "cell_type": "code",
   "execution_count": 4,
   "metadata": {},
   "outputs": [],
   "source": [
    "for i in range(1,len(net)+1):\n",
    "    network = net['Iteration' + str(i)]\n",
    "    for molecule in network:\n",
    "        execute = \"CREATE (o:ITERATION\"+str(i)+\"{name:\" + \"'\" +molecule+ \"'\" + \"})\"\n",
    "        nodes = session.run(execute)"
   ]
  },
  {
   "cell_type": "code",
   "execution_count": 45,
   "metadata": {},
   "outputs": [],
   "source": [
    "graph.close() # close connection"
   ]
  }
 ],
 "metadata": {
  "kernelspec": {
   "display_name": "my-rdkit-env",
   "language": "python",
   "name": "my-rdkit-env"
  },
  "language_info": {
   "codemirror_mode": {
    "name": "ipython",
    "version": 3
   },
   "file_extension": ".py",
   "mimetype": "text/x-python",
   "name": "python",
   "nbconvert_exporter": "python",
   "pygments_lexer": "ipython3",
   "version": "3.7.7"
  }
 },
 "nbformat": 4,
 "nbformat_minor": 4
}
