{
 "cells": [
  {
   "cell_type": "markdown",
   "metadata": {},
   "source": [
    "# Neo4j Python 3 Driver : Loading CSV (Comma Separated Values)"
   ]
  },
  {
   "cell_type": "code",
   "execution_count": 1,
   "metadata": {},
   "outputs": [],
   "source": [
    "from neo4j import GraphDatabase"
   ]
  },
  {
   "cell_type": "markdown",
   "metadata": {},
   "source": [
    "* **First:** Establish conextion to the database"
   ]
  },
  {
   "cell_type": "code",
   "execution_count": 2,
   "metadata": {},
   "outputs": [],
   "source": [
    "graph = GraphDatabase.driver(uri=\"bolt://localhost:7687\", auth=(\"neo4j\", \"ucsd2020\"))"
   ]
  },
  {
   "cell_type": "markdown",
   "metadata": {},
   "source": [
    "* **Second:** Creat a Session"
   ]
  },
  {
   "cell_type": "code",
   "execution_count": 3,
   "metadata": {},
   "outputs": [],
   "source": [
    "session =  graph.session()"
   ]
  },
  {
   "cell_type": "markdown",
   "metadata": {},
   "source": [
    "We make sure that our database is empty, we also have to load the csv file to Neo4j Desktop"
   ]
  },
  {
   "cell_type": "code",
   "execution_count": 4,
   "metadata": {},
   "outputs": [],
   "source": [
    "execute = \"MATCH (n) RETURN n\"\n",
    "nodes = session.run(execute)\n",
    "# For this Database we have two nodes so we expect to nodes\n",
    "for node in nodes:\n",
    "    print(node[0])"
   ]
  },
  {
   "cell_type": "markdown",
   "metadata": {},
   "source": [
    "* **Third:** Load CSV"
   ]
  },
  {
   "cell_type": "code",
   "execution_count": 13,
   "metadata": {
    "scrolled": true
   },
   "outputs": [
    {
     "data": {
      "text/plain": [
       "<neo4j.work.result.Result at 0x1385ebd4cc8>"
      ]
     },
     "execution_count": 13,
     "metadata": {},
     "output_type": "execute_result"
    }
   ],
   "source": [
    "execute = \"CREATE (input:INPUT{name:'C(C1C(C(C(C(O)O1)O)O)O)O'})\"\n",
    "session.run(execute)"
   ]
  },
  {
   "cell_type": "code",
   "execution_count": null,
   "metadata": {},
   "outputs": [],
   "source": [
    "'C1C(C(CO)OC(C=1O)O)O'"
   ]
  },
  {
   "cell_type": "code",
   "execution_count": 17,
   "metadata": {},
   "outputs": [
    {
     "data": {
      "text/plain": [
       "<neo4j.work.result.Result at 0x1385f369508>"
      ]
     },
     "execution_count": 17,
     "metadata": {},
     "output_type": "execute_result"
    }
   ],
   "source": [
    "execute = \"CREATE (o12:OUTPUT{name:'C1(O)OC(CO)C(C(C=1)O)O'}),(o112:OUTPUT{name:'C1OC(CO)C(C(C=1O)O)O'}),(o1112:OUTPUT{name:'C1C(C(CO)OC(C=1O)O)O'})\"\n",
    "session.run(execute)"
   ]
  },
  {
   "cell_type": "code",
   "execution_count": 27,
   "metadata": {},
   "outputs": [
    {
     "data": {
      "text/plain": [
       "<neo4j.work.result.Result at 0x1385ebcaf08>"
      ]
     },
     "execution_count": 27,
     "metadata": {},
     "output_type": "execute_result"
    }
   ],
   "source": [
    "execute = \"MATCH (input:OUTPUT{name:'C1C(C(CO)OC(C=1O)O)O'}), (o1:OUTPUT{name:'C1C(C(CO)OC(C=1O)O)O'}) CREATE (input)-[r:outocatalytic1]->(o1) \"\n",
    "session.run(execute)"
   ]
  },
  {
   "cell_type": "code",
   "execution_count": 11,
   "metadata": {},
   "outputs": [],
   "source": [
    "execute = \"MATCH (n) DETACH DELETE n\"\n",
    "nodes = session.run(execute)\n",
    "# For this Database we have two nodes so we expect to nodes\n",
    "for node in nodes:\n",
    "    print(node[0])"
   ]
  },
  {
   "cell_type": "code",
   "execution_count": null,
   "metadata": {},
   "outputs": [],
   "source": [
    "graph.close() # close connection"
   ]
  }
 ],
 "metadata": {
  "kernelspec": {
   "display_name": "my-rdkit-env",
   "language": "python",
   "name": "my-rdkit-env"
  },
  "language_info": {
   "codemirror_mode": {
    "name": "ipython",
    "version": 3
   },
   "file_extension": ".py",
   "mimetype": "text/x-python",
   "name": "python",
   "nbconvert_exporter": "python",
   "pygments_lexer": "ipython3",
   "version": "3.7.7"
  }
 },
 "nbformat": 4,
 "nbformat_minor": 4
}
