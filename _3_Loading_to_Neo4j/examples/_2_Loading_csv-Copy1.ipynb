{
 "cells": [
  {
   "cell_type": "markdown",
   "metadata": {},
   "source": [
    "# Neo4j Python 3 Driver : Loading CSV (Comma Separated Values)"
   ]
  },
  {
   "cell_type": "code",
   "execution_count": 1,
   "metadata": {},
   "outputs": [],
   "source": [
    "from neo4j import GraphDatabase"
   ]
  },
  {
   "cell_type": "markdown",
   "metadata": {},
   "source": [
    "* **First:** Establish conextion to the database"
   ]
  },
  {
   "cell_type": "code",
   "execution_count": 2,
   "metadata": {},
   "outputs": [],
   "source": [
    "graph = GraphDatabase.driver(uri=\"bolt://localhost:7687\", auth=(\"neo4j\", \"ucsd2020\"))"
   ]
  },
  {
   "cell_type": "markdown",
   "metadata": {},
   "source": [
    "* **Second:** Creat a Session"
   ]
  },
  {
   "cell_type": "code",
   "execution_count": 4,
   "metadata": {},
   "outputs": [],
   "source": [
    "session =  graph.session()"
   ]
  },
  {
   "cell_type": "markdown",
   "metadata": {},
   "source": [
    "We make sure that our database is empty, we also have to load the csv file to Neo4j Desktop"
   ]
  },
  {
   "cell_type": "code",
   "execution_count": 6,
   "metadata": {},
   "outputs": [],
   "source": [
    "execute = \"MATCH (n) RETURN n\"\n",
    "nodes = session.run(execute)\n",
    "# For this Database we have two nodes so we expect to nodes\n",
    "for node in nodes:\n",
    "    print(node[0])"
   ]
  },
  {
   "cell_type": "markdown",
   "metadata": {},
   "source": [
    "* **Third:** Load CSV"
   ]
  },
  {
   "cell_type": "code",
   "execution_count": 11,
   "metadata": {},
   "outputs": [
    {
     "data": {
      "text/plain": [
       "<neo4j.work.result.Result at 0x1a26c010f08>"
      ]
     },
     "execution_count": 11,
     "metadata": {},
     "output_type": "execute_result"
    }
   ],
   "source": [
    "execute = \"\"\"LOAD CSV WITH HEADERS FROM 'file:///load_csv.csv' AS W\n",
    "             CREATE(n:molecules{name:W.Molecule,iteration:W.Iteration})\"\"\"\n",
    "session.run(execute)"
   ]
  },
  {
   "cell_type": "code",
   "execution_count": 12,
   "metadata": {},
   "outputs": [],
   "source": [
    "execute = \"MATCH (n) DETACH DELETE n\"\n",
    "nodes = session.run(execute)\n",
    "# For this Database we have two nodes so we expect to nodes\n",
    "for node in nodes:\n",
    "    print(node[0])"
   ]
  },
  {
   "cell_type": "code",
   "execution_count": null,
   "metadata": {},
   "outputs": [],
   "source": [
    "execute = \"\"\"LOAD CSV WITH HEADERS FROM 'file:///load_csv.csv' AS W\n",
    "             CREATE(n:molecules{name:W.Molecule,iteration:W.Iteration})\"\"\"\n",
    "session.run(execute)"
   ]
  }
 ],
 "metadata": {
  "kernelspec": {
   "display_name": "my-rdkit-env",
   "language": "python",
   "name": "my-rdkit-env"
  },
  "language_info": {
   "codemirror_mode": {
    "name": "ipython",
    "version": 3
   },
   "file_extension": ".py",
   "mimetype": "text/x-python",
   "name": "python",
   "nbconvert_exporter": "python",
   "pygments_lexer": "ipython3",
   "version": "3.7.7"
  }
 },
 "nbformat": 4,
 "nbformat_minor": 4
}
