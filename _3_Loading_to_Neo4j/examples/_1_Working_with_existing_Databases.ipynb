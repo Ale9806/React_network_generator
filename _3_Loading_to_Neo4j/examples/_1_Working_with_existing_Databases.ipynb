{
 "cells": [
  {
   "cell_type": "markdown",
   "metadata": {},
   "source": [
    "# Neo4j Python 3 Driver : Intro "
   ]
  },
  {
   "cell_type": "code",
   "execution_count": 1,
   "metadata": {},
   "outputs": [],
   "source": [
    "from neo4j import GraphDatabase"
   ]
  },
  {
   "cell_type": "markdown",
   "metadata": {},
   "source": [
    "* **First:** Establish conextion to the database"
   ]
  },
  {
   "cell_type": "code",
   "execution_count": 15,
   "metadata": {},
   "outputs": [
    {
     "data": {
      "text/plain": [
       "neo4j.BoltDriver"
      ]
     },
     "execution_count": 15,
     "metadata": {},
     "output_type": "execute_result"
    }
   ],
   "source": [
    "graph = GraphDatabase.driver(uri=\"bolt://localhost:7687\", auth=(\"neo4j\", \"ucsd2020\"))\n",
    "type(graph) # object check"
   ]
  },
  {
   "cell_type": "markdown",
   "metadata": {},
   "source": [
    "* **Second:** Creat a Session"
   ]
  },
  {
   "cell_type": "code",
   "execution_count": 16,
   "metadata": {},
   "outputs": [],
   "source": [
    "session =  graph.session()"
   ]
  },
  {
   "cell_type": "markdown",
   "metadata": {},
   "source": [
    "* **Third:** After creating a Session we can execcutte  Cypher code "
   ]
  },
  {
   "cell_type": "markdown",
   "metadata": {},
   "source": [
    "* **QUARIES**"
   ]
  },
  {
   "cell_type": "markdown",
   "metadata": {},
   "source": [
    "→    Search all nodes "
   ]
  },
  {
   "cell_type": "code",
   "execution_count": 34,
   "metadata": {},
   "outputs": [
    {
     "name": "stdout",
     "output_type": "stream",
     "text": [
      "<Node id=114 labels=frozenset({'Database'}) properties={'name': 'Neo4j'}>\n",
      "<Node id=115 labels=frozenset({'Message'}) properties={'name': 'Hello World!'}>\n"
     ]
    }
   ],
   "source": [
    "execute = \"MATCH (n) RETURN n\"\n",
    "nodes = session.run(execute)\n",
    "# For this Database we have two nodes so we expect to nodes\n",
    "for node in nodes:\n",
    "    print(node[0])"
   ]
  },
  {
   "cell_type": "markdown",
   "metadata": {},
   "source": [
    "→ We can limit the number of nodes we want back "
   ]
  },
  {
   "cell_type": "code",
   "execution_count": 35,
   "metadata": {},
   "outputs": [
    {
     "name": "stdout",
     "output_type": "stream",
     "text": [
      "<Node id=114 labels=frozenset({'Database'}) properties={'name': 'Neo4j'}>\n"
     ]
    }
   ],
   "source": [
    "execute = \"MATCH (n) RETURN n LIMIT 1\"\n",
    "nodes = session.run(execute)\n",
    "# Since limit = 1 we exeect one node\n",
    "for node in nodes:\n",
    "    print(node[0])"
   ]
  },
  {
   "cell_type": "markdown",
   "metadata": {},
   "source": [
    "→ Search nodes with atributes "
   ]
  },
  {
   "cell_type": "code",
   "execution_count": 36,
   "metadata": {},
   "outputs": [
    {
     "name": "stdout",
     "output_type": "stream",
     "text": [
      "<Node id=115 labels=frozenset({'Message'}) properties={'name': 'Hello World!'}>\n"
     ]
    }
   ],
   "source": [
    "# Search all nodes \n",
    "execute = \"MATCH (n) WHERE n.name='Hello World!' RETURN n\"\n",
    "nodes = session.run(execute)\n",
    "# For this Database we have two nodes so we expect to nodes\n",
    "for node in nodes:\n",
    "    print(node[0])"
   ]
  },
  {
   "cell_type": "markdown",
   "metadata": {},
   "source": [
    "* **CREATE NODES**"
   ]
  },
  {
   "cell_type": "markdown",
   "metadata": {},
   "source": [
    "→ Lets creat a new node "
   ]
  },
  {
   "cell_type": "code",
   "execution_count": 40,
   "metadata": {},
   "outputs": [
    {
     "name": "stdout",
     "output_type": "stream",
     "text": [
      "<Node id=114 labels=frozenset({'Database'}) properties={'name': 'Neo4j'}>\n",
      "<Node id=115 labels=frozenset({'Message'}) properties={'name': 'Hello World!'}>\n",
      "<Node id=116 labels=frozenset({'People'}) properties={'name': 'Alex'}>\n",
      "<Node id=117 labels=frozenset({'People'}) properties={'name': 'Alex'}>\n"
     ]
    }
   ],
   "source": [
    "execute = \"CREATE (people:People {name:'Alex'})\"\n",
    "session.run(execute)\n",
    "\n",
    "# Lets see if it added the node\n",
    "execute = \"MATCH (n) RETURN n\"\n",
    "nodes = session.run(execute)\n",
    "for node in nodes:\n",
    "    print(node[0])"
   ]
  },
  {
   "cell_type": "code",
   "execution_count": null,
   "metadata": {},
   "outputs": [],
   "source": []
  },
  {
   "cell_type": "markdown",
   "metadata": {},
   "source": [
    "* **LAST:** Close connection"
   ]
  },
  {
   "cell_type": "code",
   "execution_count": 42,
   "metadata": {},
   "outputs": [],
   "source": [
    "graph.close()"
   ]
  }
 ],
 "metadata": {
  "kernelspec": {
   "display_name": "my-rdkit-env",
   "language": "python",
   "name": "my-rdkit-env"
  },
  "language_info": {
   "codemirror_mode": {
    "name": "ipython",
    "version": 3
   },
   "file_extension": ".py",
   "mimetype": "text/x-python",
   "name": "python",
   "nbconvert_exporter": "python",
   "pygments_lexer": "ipython3",
   "version": "3.7.7"
  }
 },
 "nbformat": 4,
 "nbformat_minor": 4
}
